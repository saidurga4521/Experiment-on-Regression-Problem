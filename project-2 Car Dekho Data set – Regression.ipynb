{
 "cells": [
  {
   "cell_type": "code",
   "execution_count": 1,
   "id": "f21a1aa8",
   "metadata": {},
   "outputs": [],
   "source": [
    "#import the all liberaries\n",
    "import numpy as np\n",
    "import pandas as pd\n",
    "import matplotlib.pyplot as plt\n",
    "import seaborn as sns\n",
    "%matplotlib inline "
   ]
  },
  {
   "cell_type": "code",
   "execution_count": 2,
   "id": "6d858dd3",
   "metadata": {},
   "outputs": [],
   "source": [
    "data=pd.read_csv('car_selling.csv')"
   ]
  },
  {
   "cell_type": "code",
   "execution_count": 3,
   "id": "c9f91d0b",
   "metadata": {},
   "outputs": [
    {
     "data": {
      "text/html": [
       "<div>\n",
       "<style scoped>\n",
       "    .dataframe tbody tr th:only-of-type {\n",
       "        vertical-align: middle;\n",
       "    }\n",
       "\n",
       "    .dataframe tbody tr th {\n",
       "        vertical-align: top;\n",
       "    }\n",
       "\n",
       "    .dataframe thead th {\n",
       "        text-align: right;\n",
       "    }\n",
       "</style>\n",
       "<table border=\"1\" class=\"dataframe\">\n",
       "  <thead>\n",
       "    <tr style=\"text-align: right;\">\n",
       "      <th></th>\n",
       "      <th>name</th>\n",
       "      <th>year</th>\n",
       "      <th>selling_price</th>\n",
       "      <th>km_driven</th>\n",
       "      <th>fuel</th>\n",
       "      <th>seller_type</th>\n",
       "      <th>transmission</th>\n",
       "      <th>owner</th>\n",
       "      <th>mileage</th>\n",
       "      <th>engine</th>\n",
       "      <th>max_power</th>\n",
       "      <th>torque</th>\n",
       "      <th>seats</th>\n",
       "    </tr>\n",
       "  </thead>\n",
       "  <tbody>\n",
       "    <tr>\n",
       "      <th>0</th>\n",
       "      <td>Maruti Swift Dzire VDI</td>\n",
       "      <td>2014</td>\n",
       "      <td>450000</td>\n",
       "      <td>145500</td>\n",
       "      <td>Diesel</td>\n",
       "      <td>Individual</td>\n",
       "      <td>Manual</td>\n",
       "      <td>First Owner</td>\n",
       "      <td>23.4 kmpl</td>\n",
       "      <td>1248 CC</td>\n",
       "      <td>74 bhp</td>\n",
       "      <td>190Nm@ 2000rpm</td>\n",
       "      <td>5.0</td>\n",
       "    </tr>\n",
       "    <tr>\n",
       "      <th>1</th>\n",
       "      <td>Skoda Rapid 1.5 TDI Ambition</td>\n",
       "      <td>2014</td>\n",
       "      <td>370000</td>\n",
       "      <td>120000</td>\n",
       "      <td>Diesel</td>\n",
       "      <td>Individual</td>\n",
       "      <td>Manual</td>\n",
       "      <td>Second Owner</td>\n",
       "      <td>21.14 kmpl</td>\n",
       "      <td>1498 CC</td>\n",
       "      <td>103.52 bhp</td>\n",
       "      <td>250Nm@ 1500-2500rpm</td>\n",
       "      <td>5.0</td>\n",
       "    </tr>\n",
       "    <tr>\n",
       "      <th>2</th>\n",
       "      <td>Honda City 2017-2020 EXi</td>\n",
       "      <td>2006</td>\n",
       "      <td>158000</td>\n",
       "      <td>140000</td>\n",
       "      <td>Petrol</td>\n",
       "      <td>Individual</td>\n",
       "      <td>Manual</td>\n",
       "      <td>Third Owner</td>\n",
       "      <td>17.7 kmpl</td>\n",
       "      <td>1497 CC</td>\n",
       "      <td>78 bhp</td>\n",
       "      <td>12.7@ 2,700(kgm@ rpm)</td>\n",
       "      <td>5.0</td>\n",
       "    </tr>\n",
       "    <tr>\n",
       "      <th>3</th>\n",
       "      <td>Hyundai i20 Sportz Diesel</td>\n",
       "      <td>2010</td>\n",
       "      <td>225000</td>\n",
       "      <td>127000</td>\n",
       "      <td>Diesel</td>\n",
       "      <td>Individual</td>\n",
       "      <td>Manual</td>\n",
       "      <td>First Owner</td>\n",
       "      <td>23.0 kmpl</td>\n",
       "      <td>1396 CC</td>\n",
       "      <td>90 bhp</td>\n",
       "      <td>22.4 kgm at 1750-2750rpm</td>\n",
       "      <td>5.0</td>\n",
       "    </tr>\n",
       "    <tr>\n",
       "      <th>4</th>\n",
       "      <td>Maruti Swift VXI BSIII</td>\n",
       "      <td>2007</td>\n",
       "      <td>130000</td>\n",
       "      <td>120000</td>\n",
       "      <td>Petrol</td>\n",
       "      <td>Individual</td>\n",
       "      <td>Manual</td>\n",
       "      <td>First Owner</td>\n",
       "      <td>16.1 kmpl</td>\n",
       "      <td>1298 CC</td>\n",
       "      <td>88.2 bhp</td>\n",
       "      <td>11.5@ 4,500(kgm@ rpm)</td>\n",
       "      <td>5.0</td>\n",
       "    </tr>\n",
       "  </tbody>\n",
       "</table>\n",
       "</div>"
      ],
      "text/plain": [
       "                           name  year  selling_price  km_driven    fuel  \\\n",
       "0        Maruti Swift Dzire VDI  2014         450000     145500  Diesel   \n",
       "1  Skoda Rapid 1.5 TDI Ambition  2014         370000     120000  Diesel   \n",
       "2      Honda City 2017-2020 EXi  2006         158000     140000  Petrol   \n",
       "3     Hyundai i20 Sportz Diesel  2010         225000     127000  Diesel   \n",
       "4        Maruti Swift VXI BSIII  2007         130000     120000  Petrol   \n",
       "\n",
       "  seller_type transmission         owner     mileage   engine   max_power  \\\n",
       "0  Individual       Manual   First Owner   23.4 kmpl  1248 CC      74 bhp   \n",
       "1  Individual       Manual  Second Owner  21.14 kmpl  1498 CC  103.52 bhp   \n",
       "2  Individual       Manual   Third Owner   17.7 kmpl  1497 CC      78 bhp   \n",
       "3  Individual       Manual   First Owner   23.0 kmpl  1396 CC      90 bhp   \n",
       "4  Individual       Manual   First Owner   16.1 kmpl  1298 CC    88.2 bhp   \n",
       "\n",
       "                     torque  seats  \n",
       "0            190Nm@ 2000rpm    5.0  \n",
       "1       250Nm@ 1500-2500rpm    5.0  \n",
       "2     12.7@ 2,700(kgm@ rpm)    5.0  \n",
       "3  22.4 kgm at 1750-2750rpm    5.0  \n",
       "4     11.5@ 4,500(kgm@ rpm)    5.0  "
      ]
     },
     "execution_count": 3,
     "metadata": {},
     "output_type": "execute_result"
    }
   ],
   "source": [
    "data.head()"
   ]
  },
  {
   "cell_type": "code",
   "execution_count": 4,
   "id": "92f49e8e",
   "metadata": {},
   "outputs": [
    {
     "data": {
      "text/plain": [
       "name               0\n",
       "year               0\n",
       "selling_price      0\n",
       "km_driven          0\n",
       "fuel               0\n",
       "seller_type        0\n",
       "transmission       0\n",
       "owner              0\n",
       "mileage          221\n",
       "engine           221\n",
       "max_power        215\n",
       "torque           222\n",
       "seats            221\n",
       "dtype: int64"
      ]
     },
     "execution_count": 4,
     "metadata": {},
     "output_type": "execute_result"
    }
   ],
   "source": [
    "#first we check the null values\n",
    "data.isnull().sum()"
   ]
  },
  {
   "cell_type": "code",
   "execution_count": 5,
   "id": "d88d5a41",
   "metadata": {},
   "outputs": [
    {
     "name": "stdout",
     "output_type": "stream",
     "text": [
      "<class 'pandas.core.frame.DataFrame'>\n",
      "RangeIndex: 8128 entries, 0 to 8127\n",
      "Data columns (total 13 columns):\n",
      " #   Column         Non-Null Count  Dtype  \n",
      "---  ------         --------------  -----  \n",
      " 0   name           8128 non-null   object \n",
      " 1   year           8128 non-null   int64  \n",
      " 2   selling_price  8128 non-null   int64  \n",
      " 3   km_driven      8128 non-null   int64  \n",
      " 4   fuel           8128 non-null   object \n",
      " 5   seller_type    8128 non-null   object \n",
      " 6   transmission   8128 non-null   object \n",
      " 7   owner          8128 non-null   object \n",
      " 8   mileage        7907 non-null   object \n",
      " 9   engine         7907 non-null   object \n",
      " 10  max_power      7913 non-null   object \n",
      " 11  torque         7906 non-null   object \n",
      " 12  seats          7907 non-null   float64\n",
      "dtypes: float64(1), int64(3), object(9)\n",
      "memory usage: 825.6+ KB\n"
     ]
    }
   ],
   "source": [
    "data.info()"
   ]
  },
  {
   "cell_type": "markdown",
   "id": "b15dacd8",
   "metadata": {},
   "source": [
    "- in this dataset the null values are present in only categorical features.\n",
    "- by handling these we use the concept of mode.which have highest categorical record in that columnn.\n",
    "- we will fill that value into nan value."
   ]
  },
  {
   "cell_type": "code",
   "execution_count": 6,
   "id": "b4f96280",
   "metadata": {},
   "outputs": [],
   "source": [
    "data['mileage'].value_counts()\n",
    "def impute_nan(df,variable):\n",
    "    df[variable]=df[variable].fillna(df[variable].value_counts().index[0])"
   ]
  },
  {
   "cell_type": "code",
   "execution_count": 7,
   "id": "ecb574cc",
   "metadata": {},
   "outputs": [],
   "source": [
    "for i in ['mileage','engine','max_power','torque','seats']:\n",
    "    impute_nan(data,i)"
   ]
  },
  {
   "cell_type": "code",
   "execution_count": 8,
   "id": "9c2cf6ae",
   "metadata": {},
   "outputs": [
    {
     "data": {
      "text/plain": [
       "name             0\n",
       "year             0\n",
       "selling_price    0\n",
       "km_driven        0\n",
       "fuel             0\n",
       "seller_type      0\n",
       "transmission     0\n",
       "owner            0\n",
       "mileage          0\n",
       "engine           0\n",
       "max_power        0\n",
       "torque           0\n",
       "seats            0\n",
       "dtype: int64"
      ]
     },
     "execution_count": 8,
     "metadata": {},
     "output_type": "execute_result"
    }
   ],
   "source": [
    "data.isnull().sum()  # So we filled the null values"
   ]
  },
  {
   "cell_type": "code",
   "execution_count": 9,
   "id": "46099a4a",
   "metadata": {},
   "outputs": [],
   "source": [
    "#we have to drop the name feature because of that there is no use.\n",
    "data.drop(['name','torque'],axis=1,inplace=True)"
   ]
  },
  {
   "cell_type": "code",
   "execution_count": 10,
   "id": "90c90371",
   "metadata": {},
   "outputs": [
    {
     "data": {
      "text/html": [
       "<div>\n",
       "<style scoped>\n",
       "    .dataframe tbody tr th:only-of-type {\n",
       "        vertical-align: middle;\n",
       "    }\n",
       "\n",
       "    .dataframe tbody tr th {\n",
       "        vertical-align: top;\n",
       "    }\n",
       "\n",
       "    .dataframe thead th {\n",
       "        text-align: right;\n",
       "    }\n",
       "</style>\n",
       "<table border=\"1\" class=\"dataframe\">\n",
       "  <thead>\n",
       "    <tr style=\"text-align: right;\">\n",
       "      <th></th>\n",
       "      <th>year</th>\n",
       "      <th>selling_price</th>\n",
       "      <th>km_driven</th>\n",
       "      <th>fuel</th>\n",
       "      <th>seller_type</th>\n",
       "      <th>transmission</th>\n",
       "      <th>owner</th>\n",
       "      <th>mileage</th>\n",
       "      <th>engine</th>\n",
       "      <th>max_power</th>\n",
       "      <th>seats</th>\n",
       "    </tr>\n",
       "  </thead>\n",
       "  <tbody>\n",
       "    <tr>\n",
       "      <th>0</th>\n",
       "      <td>2014</td>\n",
       "      <td>450000</td>\n",
       "      <td>145500</td>\n",
       "      <td>Diesel</td>\n",
       "      <td>Individual</td>\n",
       "      <td>Manual</td>\n",
       "      <td>First Owner</td>\n",
       "      <td>23.4 kmpl</td>\n",
       "      <td>1248 CC</td>\n",
       "      <td>74 bhp</td>\n",
       "      <td>5.0</td>\n",
       "    </tr>\n",
       "    <tr>\n",
       "      <th>1</th>\n",
       "      <td>2014</td>\n",
       "      <td>370000</td>\n",
       "      <td>120000</td>\n",
       "      <td>Diesel</td>\n",
       "      <td>Individual</td>\n",
       "      <td>Manual</td>\n",
       "      <td>Second Owner</td>\n",
       "      <td>21.14 kmpl</td>\n",
       "      <td>1498 CC</td>\n",
       "      <td>103.52 bhp</td>\n",
       "      <td>5.0</td>\n",
       "    </tr>\n",
       "    <tr>\n",
       "      <th>2</th>\n",
       "      <td>2006</td>\n",
       "      <td>158000</td>\n",
       "      <td>140000</td>\n",
       "      <td>Petrol</td>\n",
       "      <td>Individual</td>\n",
       "      <td>Manual</td>\n",
       "      <td>Third Owner</td>\n",
       "      <td>17.7 kmpl</td>\n",
       "      <td>1497 CC</td>\n",
       "      <td>78 bhp</td>\n",
       "      <td>5.0</td>\n",
       "    </tr>\n",
       "    <tr>\n",
       "      <th>3</th>\n",
       "      <td>2010</td>\n",
       "      <td>225000</td>\n",
       "      <td>127000</td>\n",
       "      <td>Diesel</td>\n",
       "      <td>Individual</td>\n",
       "      <td>Manual</td>\n",
       "      <td>First Owner</td>\n",
       "      <td>23.0 kmpl</td>\n",
       "      <td>1396 CC</td>\n",
       "      <td>90 bhp</td>\n",
       "      <td>5.0</td>\n",
       "    </tr>\n",
       "    <tr>\n",
       "      <th>4</th>\n",
       "      <td>2007</td>\n",
       "      <td>130000</td>\n",
       "      <td>120000</td>\n",
       "      <td>Petrol</td>\n",
       "      <td>Individual</td>\n",
       "      <td>Manual</td>\n",
       "      <td>First Owner</td>\n",
       "      <td>16.1 kmpl</td>\n",
       "      <td>1298 CC</td>\n",
       "      <td>88.2 bhp</td>\n",
       "      <td>5.0</td>\n",
       "    </tr>\n",
       "  </tbody>\n",
       "</table>\n",
       "</div>"
      ],
      "text/plain": [
       "   year  selling_price  km_driven    fuel seller_type transmission  \\\n",
       "0  2014         450000     145500  Diesel  Individual       Manual   \n",
       "1  2014         370000     120000  Diesel  Individual       Manual   \n",
       "2  2006         158000     140000  Petrol  Individual       Manual   \n",
       "3  2010         225000     127000  Diesel  Individual       Manual   \n",
       "4  2007         130000     120000  Petrol  Individual       Manual   \n",
       "\n",
       "          owner     mileage   engine   max_power  seats  \n",
       "0   First Owner   23.4 kmpl  1248 CC      74 bhp    5.0  \n",
       "1  Second Owner  21.14 kmpl  1498 CC  103.52 bhp    5.0  \n",
       "2   Third Owner   17.7 kmpl  1497 CC      78 bhp    5.0  \n",
       "3   First Owner   23.0 kmpl  1396 CC      90 bhp    5.0  \n",
       "4   First Owner   16.1 kmpl  1298 CC    88.2 bhp    5.0  "
      ]
     },
     "execution_count": 10,
     "metadata": {},
     "output_type": "execute_result"
    }
   ],
   "source": [
    "data.head()"
   ]
  },
  {
   "cell_type": "markdown",
   "id": "5f64bb0f",
   "metadata": {},
   "source": [
    "### now we go to visulization"
   ]
  },
  {
   "cell_type": "code",
   "execution_count": 11,
   "id": "3509783a",
   "metadata": {},
   "outputs": [
    {
     "data": {
      "text/plain": [
       "2017    1018\n",
       "2016     859\n",
       "2018     807\n",
       "2015     776\n",
       "2013     670\n",
       "2012     651\n",
       "2014     621\n",
       "2011     592\n",
       "2019     583\n",
       "2010     394\n",
       "2009     246\n",
       "2008     214\n",
       "2007     183\n",
       "2006     124\n",
       "2005      97\n",
       "2020      74\n",
       "2004      62\n",
       "2003      49\n",
       "2002      27\n",
       "2000      22\n",
       "1999      18\n",
       "1997      11\n",
       "2001      10\n",
       "1998      10\n",
       "1996       3\n",
       "1994       3\n",
       "1995       2\n",
       "1983       1\n",
       "1991       1\n",
       "Name: year, dtype: int64"
      ]
     },
     "execution_count": 11,
     "metadata": {},
     "output_type": "execute_result"
    }
   ],
   "source": [
    "data['year'].value_counts()"
   ]
  },
  {
   "cell_type": "code",
   "execution_count": null,
   "id": "6d5b46ab",
   "metadata": {},
   "outputs": [],
   "source": []
  },
  {
   "cell_type": "code",
   "execution_count": 12,
   "id": "1fb5cde4",
   "metadata": {},
   "outputs": [
    {
     "name": "stderr",
     "output_type": "stream",
     "text": [
      "C:\\Users\\saika\\anaconda3\\lib\\site-packages\\seaborn\\_decorators.py:36: FutureWarning: Pass the following variables as keyword args: x, y. From version 0.12, the only valid positional argument will be `data`, and passing other arguments without an explicit keyword will result in an error or misinterpretation.\n",
      "  warnings.warn(\n"
     ]
    },
    {
     "data": {
      "text/plain": [
       "<AxesSubplot:xlabel='year', ylabel='selling_price'>"
      ]
     },
     "execution_count": 12,
     "metadata": {},
     "output_type": "execute_result"
    },
    {
     "data": {
      "image/png": "[encoded data removed]",
      "text/plain": [
       "<Figure size 1080x432 with 1 Axes>"
      ]
     },
     "metadata": {
      "needs_background": "light"
     },
     "output_type": "display_data"
    }
   ],
   "source": [
    "import matplotlib\n",
    "matplotlib.rcParams['figure.figsize']=(15,6)\n",
    "sns.barplot(data['year'],data['selling_price'])"
   ]
  },
  {
   "cell_type": "markdown",
   "id": "d28026d4",
   "metadata": {},
   "source": [
    "- from this above visulization In 2019 the car price very highest.\n",
    "- And the second highest year is 2018.\n",
    "- and the least year is 2001."
   ]
  },
  {
   "cell_type": "code",
   "execution_count": 13,
   "id": "6f8edd50",
   "metadata": {},
   "outputs": [
    {
     "data": {
      "text/plain": [
       "Diesel    4402\n",
       "Petrol    3631\n",
       "CNG         57\n",
       "LPG         38\n",
       "Name: fuel, dtype: int64"
      ]
     },
     "execution_count": 13,
     "metadata": {},
     "output_type": "execute_result"
    }
   ],
   "source": [
    "data['fuel'].value_counts()"
   ]
  },
  {
   "cell_type": "code",
   "execution_count": 14,
   "id": "03bce229",
   "metadata": {},
   "outputs": [
    {
     "data": {
      "text/plain": [
       "<AxesSubplot:xlabel='fuel', ylabel='count'>"
      ]
     },
     "execution_count": 14,
     "metadata": {},
     "output_type": "execute_result"
    },
    {
     "data": {
      "image/png": "[encoded data removed]",
      "text/plain": [
       "<Figure size 576x432 with 1 Axes>"
      ]
     },
     "metadata": {
      "needs_background": "light"
     },
     "output_type": "display_data"
    }
   ],
   "source": [
    "import matplotlib\n",
    "matplotlib.rcParams['figure.figsize']=(8,6)\n",
    "sns.countplot(x='fuel',data=data)"
   ]
  },
  {
   "cell_type": "markdown",
   "id": "20f7330c",
   "metadata": {},
   "source": [
    "- from the above graph,Disel type of cars sold lot.\n",
    "- After that petrol type of cars."
   ]
  },
  {
   "cell_type": "code",
   "execution_count": 15,
   "id": "de9ff3dd",
   "metadata": {},
   "outputs": [
    {
     "data": {
      "text/plain": [
       "<AxesSubplot:xlabel='fuel', ylabel='count'>"
      ]
     },
     "execution_count": 15,
     "metadata": {},
     "output_type": "execute_result"
    },
    {
     "data": {
      "image/png": "[encoded data removed]",
      "text/plain": [
       "<Figure size 1296x864 with 1 Axes>"
      ]
     },
     "metadata": {
      "needs_background": "light"
     },
     "output_type": "display_data"
    }
   ],
   "source": [
    "matplotlib.rcParams['figure.figsize']=(18,12)\n",
    "sns.countplot(x='fuel',data=data,hue='year')"
   ]
  },
  {
   "cell_type": "markdown",
   "id": "261a0b01",
   "metadata": {},
   "source": [
    " ### observations\n",
    " 1. In 2017 and 2018 the disel type of cars sold lot.\n",
    " 2. In 2018 and 2019 the petrol type cars sold lot."
   ]
  },
  {
   "cell_type": "code",
   "execution_count": 16,
   "id": "1d19a13f",
   "metadata": {},
   "outputs": [
    {
     "data": {
      "text/html": [
       "<div>\n",
       "<style scoped>\n",
       "    .dataframe tbody tr th:only-of-type {\n",
       "        vertical-align: middle;\n",
       "    }\n",
       "\n",
       "    .dataframe tbody tr th {\n",
       "        vertical-align: top;\n",
       "    }\n",
       "\n",
       "    .dataframe thead th {\n",
       "        text-align: right;\n",
       "    }\n",
       "</style>\n",
       "<table border=\"1\" class=\"dataframe\">\n",
       "  <thead>\n",
       "    <tr style=\"text-align: right;\">\n",
       "      <th></th>\n",
       "      <th>year</th>\n",
       "      <th>selling_price</th>\n",
       "      <th>km_driven</th>\n",
       "      <th>fuel</th>\n",
       "      <th>seller_type</th>\n",
       "      <th>transmission</th>\n",
       "      <th>owner</th>\n",
       "      <th>mileage</th>\n",
       "      <th>engine</th>\n",
       "      <th>max_power</th>\n",
       "      <th>seats</th>\n",
       "    </tr>\n",
       "  </thead>\n",
       "  <tbody>\n",
       "    <tr>\n",
       "      <th>0</th>\n",
       "      <td>2014</td>\n",
       "      <td>450000</td>\n",
       "      <td>145500</td>\n",
       "      <td>Diesel</td>\n",
       "      <td>Individual</td>\n",
       "      <td>Manual</td>\n",
       "      <td>First Owner</td>\n",
       "      <td>23.4 kmpl</td>\n",
       "      <td>1248 CC</td>\n",
       "      <td>74 bhp</td>\n",
       "      <td>5.0</td>\n",
       "    </tr>\n",
       "    <tr>\n",
       "      <th>1</th>\n",
       "      <td>2014</td>\n",
       "      <td>370000</td>\n",
       "      <td>120000</td>\n",
       "      <td>Diesel</td>\n",
       "      <td>Individual</td>\n",
       "      <td>Manual</td>\n",
       "      <td>Second Owner</td>\n",
       "      <td>21.14 kmpl</td>\n",
       "      <td>1498 CC</td>\n",
       "      <td>103.52 bhp</td>\n",
       "      <td>5.0</td>\n",
       "    </tr>\n",
       "    <tr>\n",
       "      <th>2</th>\n",
       "      <td>2006</td>\n",
       "      <td>158000</td>\n",
       "      <td>140000</td>\n",
       "      <td>Petrol</td>\n",
       "      <td>Individual</td>\n",
       "      <td>Manual</td>\n",
       "      <td>Third Owner</td>\n",
       "      <td>17.7 kmpl</td>\n",
       "      <td>1497 CC</td>\n",
       "      <td>78 bhp</td>\n",
       "      <td>5.0</td>\n",
       "    </tr>\n",
       "    <tr>\n",
       "      <th>3</th>\n",
       "      <td>2010</td>\n",
       "      <td>225000</td>\n",
       "      <td>127000</td>\n",
       "      <td>Diesel</td>\n",
       "      <td>Individual</td>\n",
       "      <td>Manual</td>\n",
       "      <td>First Owner</td>\n",
       "      <td>23.0 kmpl</td>\n",
       "      <td>1396 CC</td>\n",
       "      <td>90 bhp</td>\n",
       "      <td>5.0</td>\n",
       "    </tr>\n",
       "    <tr>\n",
       "      <th>4</th>\n",
       "      <td>2007</td>\n",
       "      <td>130000</td>\n",
       "      <td>120000</td>\n",
       "      <td>Petrol</td>\n",
       "      <td>Individual</td>\n",
       "      <td>Manual</td>\n",
       "      <td>First Owner</td>\n",
       "      <td>16.1 kmpl</td>\n",
       "      <td>1298 CC</td>\n",
       "      <td>88.2 bhp</td>\n",
       "      <td>5.0</td>\n",
       "    </tr>\n",
       "  </tbody>\n",
       "</table>\n",
       "</div>"
      ],
      "text/plain": [
       "   year  selling_price  km_driven    fuel seller_type transmission  \\\n",
       "0  2014         450000     145500  Diesel  Individual       Manual   \n",
       "1  2014         370000     120000  Diesel  Individual       Manual   \n",
       "2  2006         158000     140000  Petrol  Individual       Manual   \n",
       "3  2010         225000     127000  Diesel  Individual       Manual   \n",
       "4  2007         130000     120000  Petrol  Individual       Manual   \n",
       "\n",
       "          owner     mileage   engine   max_power  seats  \n",
       "0   First Owner   23.4 kmpl  1248 CC      74 bhp    5.0  \n",
       "1  Second Owner  21.14 kmpl  1498 CC  103.52 bhp    5.0  \n",
       "2   Third Owner   17.7 kmpl  1497 CC      78 bhp    5.0  \n",
       "3   First Owner   23.0 kmpl  1396 CC      90 bhp    5.0  \n",
       "4   First Owner   16.1 kmpl  1298 CC    88.2 bhp    5.0  "
      ]
     },
     "execution_count": 16,
     "metadata": {},
     "output_type": "execute_result"
    }
   ],
   "source": [
    "data.head()"
   ]
  },
  {
   "cell_type": "code",
   "execution_count": 17,
   "id": "5e1ad303",
   "metadata": {},
   "outputs": [
    {
     "data": {
      "text/plain": [
       "Individual          6766\n",
       "Dealer              1126\n",
       "Trustmark Dealer     236\n",
       "Name: seller_type, dtype: int64"
      ]
     },
     "execution_count": 17,
     "metadata": {},
     "output_type": "execute_result"
    }
   ],
   "source": [
    "data['seller_type'].value_counts()"
   ]
  },
  {
   "cell_type": "code",
   "execution_count": 18,
   "id": "22c1f2e8",
   "metadata": {},
   "outputs": [
    {
     "data": {
      "text/plain": [
       "<AxesSubplot:xlabel='fuel', ylabel='count'>"
      ]
     },
     "execution_count": 18,
     "metadata": {},
     "output_type": "execute_result"
    },
    {
     "data": {
      "image/png": "[encoded data removed]",
      "text/plain": [
       "<Figure size 576x432 with 1 Axes>"
      ]
     },
     "metadata": {
      "needs_background": "light"
     },
     "output_type": "display_data"
    }
   ],
   "source": [
    "matplotlib.rcParams['figure.figsize']=(8,6)\n",
    "sns.countplot(x='fuel',data=data,hue='seller_type')"
   ]
  },
  {
   "cell_type": "markdown",
   "id": "76a6d05e",
   "metadata": {},
   "source": [
    "### obeservations\n",
    "1. The most of the disel cars are selled by seller_type is individual\n",
    "2. after that the seller type is dealer\n",
    "3. the trustmark dealer is low."
   ]
  },
  {
   "cell_type": "code",
   "execution_count": 19,
   "id": "3596f6fe",
   "metadata": {},
   "outputs": [
    {
     "data": {
      "text/plain": [
       "Manual       7078\n",
       "Automatic    1050\n",
       "Name: transmission, dtype: int64"
      ]
     },
     "execution_count": 19,
     "metadata": {},
     "output_type": "execute_result"
    }
   ],
   "source": [
    "data['transmission'].value_counts()"
   ]
  },
  {
   "cell_type": "code",
   "execution_count": 20,
   "id": "f3685fc6",
   "metadata": {},
   "outputs": [
    {
     "data": {
      "text/plain": [
       "<AxesSubplot:xlabel='transmission', ylabel='selling_price'>"
      ]
     },
     "execution_count": 20,
     "metadata": {},
     "output_type": "execute_result"
    },
    {
     "data": {
      "image/png": "[encoded data removed]",
      "text/plain": [
       "<Figure size 576x432 with 1 Axes>"
      ]
     },
     "metadata": {
      "needs_background": "light"
     },
     "output_type": "display_data"
    }
   ],
   "source": [
    "sns.barplot(x='transmission',y='selling_price',data=data) #from the below graph the automatic transmission type of cars have the highest price."
   ]
  },
  {
   "cell_type": "code",
   "execution_count": 21,
   "id": "dec507e9",
   "metadata": {},
   "outputs": [
    {
     "data": {
      "text/plain": [
       "<AxesSubplot:xlabel='fuel', ylabel='km_driven'>"
      ]
     },
     "execution_count": 21,
     "metadata": {},
     "output_type": "execute_result"
    },
    {
     "data": {
      "image/png": "[encoded data removed]",
      "text/plain": [
       "<Figure size 576x432 with 1 Axes>"
      ]
     },
     "metadata": {
      "needs_background": "light"
     },
     "output_type": "display_data"
    }
   ],
   "source": [
    "sns.barplot(x='fuel',y='km_driven',data=data,hue='transmission')"
   ]
  },
  {
   "cell_type": "markdown",
   "id": "7cf5717b",
   "metadata": {},
   "source": [
    "### Observations\n",
    "1. from the above visulization most of the disel cars with manual transmission type have km_driven is more\n",
    "2. from above visulization we conclude that manual transmission type has km_driven is more when compared to the automatic transmission."
   ]
  },
  {
   "cell_type": "code",
   "execution_count": 22,
   "id": "4daf3029",
   "metadata": {},
   "outputs": [
    {
     "data": {
      "text/html": [
       "<div>\n",
       "<style scoped>\n",
       "    .dataframe tbody tr th:only-of-type {\n",
       "        vertical-align: middle;\n",
       "    }\n",
       "\n",
       "    .dataframe tbody tr th {\n",
       "        vertical-align: top;\n",
       "    }\n",
       "\n",
       "    .dataframe thead th {\n",
       "        text-align: right;\n",
       "    }\n",
       "</style>\n",
       "<table border=\"1\" class=\"dataframe\">\n",
       "  <thead>\n",
       "    <tr style=\"text-align: right;\">\n",
       "      <th></th>\n",
       "      <th>year</th>\n",
       "      <th>selling_price</th>\n",
       "      <th>km_driven</th>\n",
       "      <th>fuel</th>\n",
       "      <th>seller_type</th>\n",
       "      <th>transmission</th>\n",
       "      <th>owner</th>\n",
       "      <th>mileage</th>\n",
       "      <th>engine</th>\n",
       "      <th>max_power</th>\n",
       "      <th>seats</th>\n",
       "    </tr>\n",
       "  </thead>\n",
       "  <tbody>\n",
       "    <tr>\n",
       "      <th>0</th>\n",
       "      <td>2014</td>\n",
       "      <td>450000</td>\n",
       "      <td>145500</td>\n",
       "      <td>Diesel</td>\n",
       "      <td>Individual</td>\n",
       "      <td>Manual</td>\n",
       "      <td>First Owner</td>\n",
       "      <td>23.4 kmpl</td>\n",
       "      <td>1248 CC</td>\n",
       "      <td>74 bhp</td>\n",
       "      <td>5.0</td>\n",
       "    </tr>\n",
       "    <tr>\n",
       "      <th>1</th>\n",
       "      <td>2014</td>\n",
       "      <td>370000</td>\n",
       "      <td>120000</td>\n",
       "      <td>Diesel</td>\n",
       "      <td>Individual</td>\n",
       "      <td>Manual</td>\n",
       "      <td>Second Owner</td>\n",
       "      <td>21.14 kmpl</td>\n",
       "      <td>1498 CC</td>\n",
       "      <td>103.52 bhp</td>\n",
       "      <td>5.0</td>\n",
       "    </tr>\n",
       "    <tr>\n",
       "      <th>2</th>\n",
       "      <td>2006</td>\n",
       "      <td>158000</td>\n",
       "      <td>140000</td>\n",
       "      <td>Petrol</td>\n",
       "      <td>Individual</td>\n",
       "      <td>Manual</td>\n",
       "      <td>Third Owner</td>\n",
       "      <td>17.7 kmpl</td>\n",
       "      <td>1497 CC</td>\n",
       "      <td>78 bhp</td>\n",
       "      <td>5.0</td>\n",
       "    </tr>\n",
       "    <tr>\n",
       "      <th>3</th>\n",
       "      <td>2010</td>\n",
       "      <td>225000</td>\n",
       "      <td>127000</td>\n",
       "      <td>Diesel</td>\n",
       "      <td>Individual</td>\n",
       "      <td>Manual</td>\n",
       "      <td>First Owner</td>\n",
       "      <td>23.0 kmpl</td>\n",
       "      <td>1396 CC</td>\n",
       "      <td>90 bhp</td>\n",
       "      <td>5.0</td>\n",
       "    </tr>\n",
       "    <tr>\n",
       "      <th>4</th>\n",
       "      <td>2007</td>\n",
       "      <td>130000</td>\n",
       "      <td>120000</td>\n",
       "      <td>Petrol</td>\n",
       "      <td>Individual</td>\n",
       "      <td>Manual</td>\n",
       "      <td>First Owner</td>\n",
       "      <td>16.1 kmpl</td>\n",
       "      <td>1298 CC</td>\n",
       "      <td>88.2 bhp</td>\n",
       "      <td>5.0</td>\n",
       "    </tr>\n",
       "  </tbody>\n",
       "</table>\n",
       "</div>"
      ],
      "text/plain": [
       "   year  selling_price  km_driven    fuel seller_type transmission  \\\n",
       "0  2014         450000     145500  Diesel  Individual       Manual   \n",
       "1  2014         370000     120000  Diesel  Individual       Manual   \n",
       "2  2006         158000     140000  Petrol  Individual       Manual   \n",
       "3  2010         225000     127000  Diesel  Individual       Manual   \n",
       "4  2007         130000     120000  Petrol  Individual       Manual   \n",
       "\n",
       "          owner     mileage   engine   max_power  seats  \n",
       "0   First Owner   23.4 kmpl  1248 CC      74 bhp    5.0  \n",
       "1  Second Owner  21.14 kmpl  1498 CC  103.52 bhp    5.0  \n",
       "2   Third Owner   17.7 kmpl  1497 CC      78 bhp    5.0  \n",
       "3   First Owner   23.0 kmpl  1396 CC      90 bhp    5.0  \n",
       "4   First Owner   16.1 kmpl  1298 CC    88.2 bhp    5.0  "
      ]
     },
     "execution_count": 22,
     "metadata": {},
     "output_type": "execute_result"
    }
   ],
   "source": [
    "data.head()"
   ]
  },
  {
   "cell_type": "code",
   "execution_count": 23,
   "id": "66230483",
   "metadata": {},
   "outputs": [
    {
     "data": {
      "text/plain": [
       "5.0     6475\n",
       "7.0     1120\n",
       "8.0      236\n",
       "4.0      133\n",
       "9.0       80\n",
       "6.0       62\n",
       "10.0      19\n",
       "2.0        2\n",
       "14.0       1\n",
       "Name: seats, dtype: int64"
      ]
     },
     "execution_count": 23,
     "metadata": {},
     "output_type": "execute_result"
    }
   ],
   "source": [
    "data['seats'].value_counts()"
   ]
  },
  {
   "cell_type": "code",
   "execution_count": 24,
   "id": "6d07c380",
   "metadata": {},
   "outputs": [
    {
     "data": {
      "text/plain": [
       "<AxesSubplot:xlabel='fuel', ylabel='selling_price'>"
      ]
     },
     "execution_count": 24,
     "metadata": {},
     "output_type": "execute_result"
    },
    {
     "data": {
      "image/png": "[encoded data removed]",
      "text/plain": [
       "<Figure size 720x432 with 1 Axes>"
      ]
     },
     "metadata": {
      "needs_background": "light"
     },
     "output_type": "display_data"
    }
   ],
   "source": [
    "matplotlib.rcParams['figure.figsize']=(10,6)\n",
    "sns.barplot(x='fuel',y='selling_price',data=data,hue='seats')"
   ]
  },
  {
   "cell_type": "markdown",
   "id": "ab88dca2",
   "metadata": {},
   "source": [
    "### observations\n",
    "1. The disel type of car have 4 seats then it has the highest price.\n",
    "2. for petrol engine type of car have 7 seats then it has highest price."
   ]
  },
  {
   "cell_type": "code",
   "execution_count": 25,
   "id": "f1e5814e",
   "metadata": {},
   "outputs": [
    {
     "data": {
      "text/plain": [
       "First Owner             5289\n",
       "Second Owner            2105\n",
       "Third Owner              555\n",
       "Fourth & Above Owner     174\n",
       "Test Drive Car             5\n",
       "Name: owner, dtype: int64"
      ]
     },
     "execution_count": 25,
     "metadata": {},
     "output_type": "execute_result"
    }
   ],
   "source": [
    "data['owner'].value_counts()"
   ]
  },
  {
   "cell_type": "code",
   "execution_count": 26,
   "id": "0dffb22e",
   "metadata": {},
   "outputs": [
    {
     "data": {
      "text/plain": [
       "<AxesSubplot:xlabel='owner', ylabel='selling_price'>"
      ]
     },
     "execution_count": 26,
     "metadata": {},
     "output_type": "execute_result"
    },
    {
     "data": {
      "image/png": "[encoded data removed]",
      "text/plain": [
       "<Figure size 720x432 with 1 Axes>"
      ]
     },
     "metadata": {
      "needs_background": "light"
     },
     "output_type": "display_data"
    }
   ],
   "source": [
    "sns.barplot(x='owner',y='selling_price',data=data)"
   ]
  },
  {
   "cell_type": "markdown",
   "id": "6d5e2c0e",
   "metadata": {},
   "source": [
    "### Observations\n",
    "1. from above observation the test driver car has highest price."
   ]
  },
  {
   "cell_type": "code",
   "execution_count": 27,
   "id": "7c1216e3",
   "metadata": {},
   "outputs": [
    {
     "data": {
      "text/plain": [
       "1248 CC    1238\n",
       "1197 CC     832\n",
       "998 CC      453\n",
       "796 CC      444\n",
       "2179 CC     389\n",
       "           ... \n",
       "2835 CC       1\n",
       "1489 CC       1\n",
       "1422 CC       1\n",
       "2496 CC       1\n",
       "1950 CC       1\n",
       "Name: engine, Length: 121, dtype: int64"
      ]
     },
     "execution_count": 27,
     "metadata": {},
     "output_type": "execute_result"
    }
   ],
   "source": [
    "data['engine'].value_counts()"
   ]
  },
  {
   "cell_type": "code",
   "execution_count": 28,
   "id": "e496aa3a",
   "metadata": {},
   "outputs": [
    {
     "name": "stdout",
     "output_type": "stream",
     "text": [
      "<class 'pandas.core.frame.DataFrame'>\n",
      "RangeIndex: 8128 entries, 0 to 8127\n",
      "Data columns (total 11 columns):\n",
      " #   Column         Non-Null Count  Dtype  \n",
      "---  ------         --------------  -----  \n",
      " 0   year           8128 non-null   int64  \n",
      " 1   selling_price  8128 non-null   int64  \n",
      " 2   km_driven      8128 non-null   int64  \n",
      " 3   fuel           8128 non-null   object \n",
      " 4   seller_type    8128 non-null   object \n",
      " 5   transmission   8128 non-null   object \n",
      " 6   owner          8128 non-null   object \n",
      " 7   mileage        8128 non-null   object \n",
      " 8   engine         8128 non-null   object \n",
      " 9   max_power      8128 non-null   object \n",
      " 10  seats          8128 non-null   float64\n",
      "dtypes: float64(1), int64(3), object(7)\n",
      "memory usage: 698.6+ KB\n"
     ]
    }
   ],
   "source": [
    "data.info()"
   ]
  },
  {
   "cell_type": "code",
   "execution_count": 29,
   "id": "27c2b7c0",
   "metadata": {},
   "outputs": [
    {
     "data": {
      "text/plain": [
       "Diesel    4402\n",
       "Petrol    3631\n",
       "CNG         57\n",
       "LPG         38\n",
       "Name: fuel, dtype: int64"
      ]
     },
     "execution_count": 29,
     "metadata": {},
     "output_type": "execute_result"
    }
   ],
   "source": [
    "#we have to convert the object type as a integer.\n",
    "#for that we use a map function.\n",
    "data['fuel'].value_counts()"
   ]
  },
  {
   "cell_type": "code",
   "execution_count": 30,
   "id": "1e8a9476",
   "metadata": {},
   "outputs": [],
   "source": [
    "data['fuel']=data['fuel'].map({'Diesel':1,'Petrol':2,'CNG':3,'LPG':4})"
   ]
  },
  {
   "cell_type": "code",
   "execution_count": 31,
   "id": "84a9d12b",
   "metadata": {},
   "outputs": [
    {
     "data": {
      "text/html": [
       "<div>\n",
       "<style scoped>\n",
       "    .dataframe tbody tr th:only-of-type {\n",
       "        vertical-align: middle;\n",
       "    }\n",
       "\n",
       "    .dataframe tbody tr th {\n",
       "        vertical-align: top;\n",
       "    }\n",
       "\n",
       "    .dataframe thead th {\n",
       "        text-align: right;\n",
       "    }\n",
       "</style>\n",
       "<table border=\"1\" class=\"dataframe\">\n",
       "  <thead>\n",
       "    <tr style=\"text-align: right;\">\n",
       "      <th></th>\n",
       "      <th>year</th>\n",
       "      <th>selling_price</th>\n",
       "      <th>km_driven</th>\n",
       "      <th>fuel</th>\n",
       "      <th>seller_type</th>\n",
       "      <th>transmission</th>\n",
       "      <th>owner</th>\n",
       "      <th>mileage</th>\n",
       "      <th>engine</th>\n",
       "      <th>max_power</th>\n",
       "      <th>seats</th>\n",
       "    </tr>\n",
       "  </thead>\n",
       "  <tbody>\n",
       "    <tr>\n",
       "      <th>0</th>\n",
       "      <td>2014</td>\n",
       "      <td>450000</td>\n",
       "      <td>145500</td>\n",
       "      <td>1</td>\n",
       "      <td>Individual</td>\n",
       "      <td>Manual</td>\n",
       "      <td>First Owner</td>\n",
       "      <td>23.4 kmpl</td>\n",
       "      <td>1248 CC</td>\n",
       "      <td>74 bhp</td>\n",
       "      <td>5.0</td>\n",
       "    </tr>\n",
       "    <tr>\n",
       "      <th>1</th>\n",
       "      <td>2014</td>\n",
       "      <td>370000</td>\n",
       "      <td>120000</td>\n",
       "      <td>1</td>\n",
       "      <td>Individual</td>\n",
       "      <td>Manual</td>\n",
       "      <td>Second Owner</td>\n",
       "      <td>21.14 kmpl</td>\n",
       "      <td>1498 CC</td>\n",
       "      <td>103.52 bhp</td>\n",
       "      <td>5.0</td>\n",
       "    </tr>\n",
       "    <tr>\n",
       "      <th>2</th>\n",
       "      <td>2006</td>\n",
       "      <td>158000</td>\n",
       "      <td>140000</td>\n",
       "      <td>2</td>\n",
       "      <td>Individual</td>\n",
       "      <td>Manual</td>\n",
       "      <td>Third Owner</td>\n",
       "      <td>17.7 kmpl</td>\n",
       "      <td>1497 CC</td>\n",
       "      <td>78 bhp</td>\n",
       "      <td>5.0</td>\n",
       "    </tr>\n",
       "    <tr>\n",
       "      <th>3</th>\n",
       "      <td>2010</td>\n",
       "      <td>225000</td>\n",
       "      <td>127000</td>\n",
       "      <td>1</td>\n",
       "      <td>Individual</td>\n",
       "      <td>Manual</td>\n",
       "      <td>First Owner</td>\n",
       "      <td>23.0 kmpl</td>\n",
       "      <td>1396 CC</td>\n",
       "      <td>90 bhp</td>\n",
       "      <td>5.0</td>\n",
       "    </tr>\n",
       "    <tr>\n",
       "      <th>4</th>\n",
       "      <td>2007</td>\n",
       "      <td>130000</td>\n",
       "      <td>120000</td>\n",
       "      <td>2</td>\n",
       "      <td>Individual</td>\n",
       "      <td>Manual</td>\n",
       "      <td>First Owner</td>\n",
       "      <td>16.1 kmpl</td>\n",
       "      <td>1298 CC</td>\n",
       "      <td>88.2 bhp</td>\n",
       "      <td>5.0</td>\n",
       "    </tr>\n",
       "  </tbody>\n",
       "</table>\n",
       "</div>"
      ],
      "text/plain": [
       "   year  selling_price  km_driven  fuel seller_type transmission  \\\n",
       "0  2014         450000     145500     1  Individual       Manual   \n",
       "1  2014         370000     120000     1  Individual       Manual   \n",
       "2  2006         158000     140000     2  Individual       Manual   \n",
       "3  2010         225000     127000     1  Individual       Manual   \n",
       "4  2007         130000     120000     2  Individual       Manual   \n",
       "\n",
       "          owner     mileage   engine   max_power  seats  \n",
       "0   First Owner   23.4 kmpl  1248 CC      74 bhp    5.0  \n",
       "1  Second Owner  21.14 kmpl  1498 CC  103.52 bhp    5.0  \n",
       "2   Third Owner   17.7 kmpl  1497 CC      78 bhp    5.0  \n",
       "3   First Owner   23.0 kmpl  1396 CC      90 bhp    5.0  \n",
       "4   First Owner   16.1 kmpl  1298 CC    88.2 bhp    5.0  "
      ]
     },
     "execution_count": 31,
     "metadata": {},
     "output_type": "execute_result"
    }
   ],
   "source": [
    "data.head()"
   ]
  },
  {
   "cell_type": "code",
   "execution_count": 32,
   "id": "21db847d",
   "metadata": {},
   "outputs": [
    {
     "data": {
      "text/plain": [
       "Individual          6766\n",
       "Dealer              1126\n",
       "Trustmark Dealer     236\n",
       "Name: seller_type, dtype: int64"
      ]
     },
     "execution_count": 32,
     "metadata": {},
     "output_type": "execute_result"
    }
   ],
   "source": [
    "data['seller_type'].value_counts()"
   ]
  },
  {
   "cell_type": "code",
   "execution_count": 33,
   "id": "3ed3e14e",
   "metadata": {},
   "outputs": [],
   "source": [
    "data['seller_type']=data['seller_type'].map({'Individual':1,'Dealer':2,'Trustmark Dealer':3})"
   ]
  },
  {
   "cell_type": "code",
   "execution_count": 34,
   "id": "475f1ae4",
   "metadata": {},
   "outputs": [
    {
     "data": {
      "text/plain": [
       "Manual       7078\n",
       "Automatic    1050\n",
       "Name: transmission, dtype: int64"
      ]
     },
     "execution_count": 34,
     "metadata": {},
     "output_type": "execute_result"
    }
   ],
   "source": [
    "data['transmission'].value_counts()"
   ]
  },
  {
   "cell_type": "code",
   "execution_count": 35,
   "id": "dbd03c89",
   "metadata": {},
   "outputs": [],
   "source": [
    "data['transmission']=data['transmission'].map({'Manual':1,'Automatic':2})"
   ]
  },
  {
   "cell_type": "code",
   "execution_count": 36,
   "id": "6d27edcf",
   "metadata": {},
   "outputs": [
    {
     "data": {
      "text/plain": [
       "First Owner             5289\n",
       "Second Owner            2105\n",
       "Third Owner              555\n",
       "Fourth & Above Owner     174\n",
       "Test Drive Car             5\n",
       "Name: owner, dtype: int64"
      ]
     },
     "execution_count": 36,
     "metadata": {},
     "output_type": "execute_result"
    }
   ],
   "source": [
    "data['owner'].value_counts()"
   ]
  },
  {
   "cell_type": "code",
   "execution_count": 37,
   "id": "130422ee",
   "metadata": {},
   "outputs": [],
   "source": [
    "data['owner']=data['owner'].map({'First Owner':1,'Second Owner':2,'Third Owner':3,'Fourth & Above Owner':4,'Test Drive Car':5})"
   ]
  },
  {
   "cell_type": "code",
   "execution_count": 38,
   "id": "9bfa4211",
   "metadata": {},
   "outputs": [
    {
     "data": {
      "text/html": [
       "<div>\n",
       "<style scoped>\n",
       "    .dataframe tbody tr th:only-of-type {\n",
       "        vertical-align: middle;\n",
       "    }\n",
       "\n",
       "    .dataframe tbody tr th {\n",
       "        vertical-align: top;\n",
       "    }\n",
       "\n",
       "    .dataframe thead th {\n",
       "        text-align: right;\n",
       "    }\n",
       "</style>\n",
       "<table border=\"1\" class=\"dataframe\">\n",
       "  <thead>\n",
       "    <tr style=\"text-align: right;\">\n",
       "      <th></th>\n",
       "      <th>year</th>\n",
       "      <th>selling_price</th>\n",
       "      <th>km_driven</th>\n",
       "      <th>fuel</th>\n",
       "      <th>seller_type</th>\n",
       "      <th>transmission</th>\n",
       "      <th>owner</th>\n",
       "      <th>mileage</th>\n",
       "      <th>engine</th>\n",
       "      <th>max_power</th>\n",
       "      <th>seats</th>\n",
       "    </tr>\n",
       "  </thead>\n",
       "  <tbody>\n",
       "    <tr>\n",
       "      <th>0</th>\n",
       "      <td>2014</td>\n",
       "      <td>450000</td>\n",
       "      <td>145500</td>\n",
       "      <td>1</td>\n",
       "      <td>1</td>\n",
       "      <td>1</td>\n",
       "      <td>1</td>\n",
       "      <td>23.4 kmpl</td>\n",
       "      <td>1248 CC</td>\n",
       "      <td>74 bhp</td>\n",
       "      <td>5.0</td>\n",
       "    </tr>\n",
       "    <tr>\n",
       "      <th>1</th>\n",
       "      <td>2014</td>\n",
       "      <td>370000</td>\n",
       "      <td>120000</td>\n",
       "      <td>1</td>\n",
       "      <td>1</td>\n",
       "      <td>1</td>\n",
       "      <td>2</td>\n",
       "      <td>21.14 kmpl</td>\n",
       "      <td>1498 CC</td>\n",
       "      <td>103.52 bhp</td>\n",
       "      <td>5.0</td>\n",
       "    </tr>\n",
       "    <tr>\n",
       "      <th>2</th>\n",
       "      <td>2006</td>\n",
       "      <td>158000</td>\n",
       "      <td>140000</td>\n",
       "      <td>2</td>\n",
       "      <td>1</td>\n",
       "      <td>1</td>\n",
       "      <td>3</td>\n",
       "      <td>17.7 kmpl</td>\n",
       "      <td>1497 CC</td>\n",
       "      <td>78 bhp</td>\n",
       "      <td>5.0</td>\n",
       "    </tr>\n",
       "    <tr>\n",
       "      <th>3</th>\n",
       "      <td>2010</td>\n",
       "      <td>225000</td>\n",
       "      <td>127000</td>\n",
       "      <td>1</td>\n",
       "      <td>1</td>\n",
       "      <td>1</td>\n",
       "      <td>1</td>\n",
       "      <td>23.0 kmpl</td>\n",
       "      <td>1396 CC</td>\n",
       "      <td>90 bhp</td>\n",
       "      <td>5.0</td>\n",
       "    </tr>\n",
       "    <tr>\n",
       "      <th>4</th>\n",
       "      <td>2007</td>\n",
       "      <td>130000</td>\n",
       "      <td>120000</td>\n",
       "      <td>2</td>\n",
       "      <td>1</td>\n",
       "      <td>1</td>\n",
       "      <td>1</td>\n",
       "      <td>16.1 kmpl</td>\n",
       "      <td>1298 CC</td>\n",
       "      <td>88.2 bhp</td>\n",
       "      <td>5.0</td>\n",
       "    </tr>\n",
       "  </tbody>\n",
       "</table>\n",
       "</div>"
      ],
      "text/plain": [
       "   year  selling_price  km_driven  fuel  seller_type  transmission  owner  \\\n",
       "0  2014         450000     145500     1            1             1      1   \n",
       "1  2014         370000     120000     1            1             1      2   \n",
       "2  2006         158000     140000     2            1             1      3   \n",
       "3  2010         225000     127000     1            1             1      1   \n",
       "4  2007         130000     120000     2            1             1      1   \n",
       "\n",
       "      mileage   engine   max_power  seats  \n",
       "0   23.4 kmpl  1248 CC      74 bhp    5.0  \n",
       "1  21.14 kmpl  1498 CC  103.52 bhp    5.0  \n",
       "2   17.7 kmpl  1497 CC      78 bhp    5.0  \n",
       "3   23.0 kmpl  1396 CC      90 bhp    5.0  \n",
       "4   16.1 kmpl  1298 CC    88.2 bhp    5.0  "
      ]
     },
     "execution_count": 38,
     "metadata": {},
     "output_type": "execute_result"
    }
   ],
   "source": [
    "data.head()"
   ]
  },
  {
   "cell_type": "code",
   "execution_count": 39,
   "id": "3d4adc03",
   "metadata": {},
   "outputs": [
    {
     "name": "stdout",
     "output_type": "stream",
     "text": [
      "<class 'pandas.core.frame.DataFrame'>\n",
      "RangeIndex: 8128 entries, 0 to 8127\n",
      "Data columns (total 11 columns):\n",
      " #   Column         Non-Null Count  Dtype  \n",
      "---  ------         --------------  -----  \n",
      " 0   year           8128 non-null   int64  \n",
      " 1   selling_price  8128 non-null   int64  \n",
      " 2   km_driven      8128 non-null   int64  \n",
      " 3   fuel           8128 non-null   int64  \n",
      " 4   seller_type    8128 non-null   int64  \n",
      " 5   transmission   8128 non-null   int64  \n",
      " 6   owner          8128 non-null   int64  \n",
      " 7   mileage        8128 non-null   object \n",
      " 8   engine         8128 non-null   object \n",
      " 9   max_power      8128 non-null   object \n",
      " 10  seats          8128 non-null   float64\n",
      "dtypes: float64(1), int64(7), object(3)\n",
      "memory usage: 698.6+ KB\n"
     ]
    }
   ],
   "source": [
    "data.info()"
   ]
  },
  {
   "cell_type": "code",
   "execution_count": 40,
   "id": "360272cf",
   "metadata": {},
   "outputs": [],
   "source": [
    "data['mileage']=data['mileage'].str.replace('kmpl','')\n",
    "data['engine']=data['engine'].str.replace('CC','')\n",
    "data['max_power']=data['max_power'].str.replace('bhp','')"
   ]
  },
  {
   "cell_type": "code",
   "execution_count": 41,
   "id": "a3c30aa6",
   "metadata": {},
   "outputs": [
    {
     "data": {
      "text/html": [
       "<div>\n",
       "<style scoped>\n",
       "    .dataframe tbody tr th:only-of-type {\n",
       "        vertical-align: middle;\n",
       "    }\n",
       "\n",
       "    .dataframe tbody tr th {\n",
       "        vertical-align: top;\n",
       "    }\n",
       "\n",
       "    .dataframe thead th {\n",
       "        text-align: right;\n",
       "    }\n",
       "</style>\n",
       "<table border=\"1\" class=\"dataframe\">\n",
       "  <thead>\n",
       "    <tr style=\"text-align: right;\">\n",
       "      <th></th>\n",
       "      <th>year</th>\n",
       "      <th>selling_price</th>\n",
       "      <th>km_driven</th>\n",
       "      <th>fuel</th>\n",
       "      <th>seller_type</th>\n",
       "      <th>transmission</th>\n",
       "      <th>owner</th>\n",
       "      <th>mileage</th>\n",
       "      <th>engine</th>\n",
       "      <th>max_power</th>\n",
       "      <th>seats</th>\n",
       "    </tr>\n",
       "  </thead>\n",
       "  <tbody>\n",
       "    <tr>\n",
       "      <th>0</th>\n",
       "      <td>2014</td>\n",
       "      <td>450000</td>\n",
       "      <td>145500</td>\n",
       "      <td>1</td>\n",
       "      <td>1</td>\n",
       "      <td>1</td>\n",
       "      <td>1</td>\n",
       "      <td>23.4</td>\n",
       "      <td>1248</td>\n",
       "      <td>74</td>\n",
       "      <td>5.0</td>\n",
       "    </tr>\n",
       "    <tr>\n",
       "      <th>1</th>\n",
       "      <td>2014</td>\n",
       "      <td>370000</td>\n",
       "      <td>120000</td>\n",
       "      <td>1</td>\n",
       "      <td>1</td>\n",
       "      <td>1</td>\n",
       "      <td>2</td>\n",
       "      <td>21.14</td>\n",
       "      <td>1498</td>\n",
       "      <td>103.52</td>\n",
       "      <td>5.0</td>\n",
       "    </tr>\n",
       "    <tr>\n",
       "      <th>2</th>\n",
       "      <td>2006</td>\n",
       "      <td>158000</td>\n",
       "      <td>140000</td>\n",
       "      <td>2</td>\n",
       "      <td>1</td>\n",
       "      <td>1</td>\n",
       "      <td>3</td>\n",
       "      <td>17.7</td>\n",
       "      <td>1497</td>\n",
       "      <td>78</td>\n",
       "      <td>5.0</td>\n",
       "    </tr>\n",
       "    <tr>\n",
       "      <th>3</th>\n",
       "      <td>2010</td>\n",
       "      <td>225000</td>\n",
       "      <td>127000</td>\n",
       "      <td>1</td>\n",
       "      <td>1</td>\n",
       "      <td>1</td>\n",
       "      <td>1</td>\n",
       "      <td>23.0</td>\n",
       "      <td>1396</td>\n",
       "      <td>90</td>\n",
       "      <td>5.0</td>\n",
       "    </tr>\n",
       "    <tr>\n",
       "      <th>4</th>\n",
       "      <td>2007</td>\n",
       "      <td>130000</td>\n",
       "      <td>120000</td>\n",
       "      <td>2</td>\n",
       "      <td>1</td>\n",
       "      <td>1</td>\n",
       "      <td>1</td>\n",
       "      <td>16.1</td>\n",
       "      <td>1298</td>\n",
       "      <td>88.2</td>\n",
       "      <td>5.0</td>\n",
       "    </tr>\n",
       "  </tbody>\n",
       "</table>\n",
       "</div>"
      ],
      "text/plain": [
       "   year  selling_price  km_driven  fuel  seller_type  transmission  owner  \\\n",
       "0  2014         450000     145500     1            1             1      1   \n",
       "1  2014         370000     120000     1            1             1      2   \n",
       "2  2006         158000     140000     2            1             1      3   \n",
       "3  2010         225000     127000     1            1             1      1   \n",
       "4  2007         130000     120000     2            1             1      1   \n",
       "\n",
       "  mileage engine max_power  seats  \n",
       "0   23.4   1248        74     5.0  \n",
       "1  21.14   1498    103.52     5.0  \n",
       "2   17.7   1497        78     5.0  \n",
       "3   23.0   1396        90     5.0  \n",
       "4   16.1   1298      88.2     5.0  "
      ]
     },
     "execution_count": 41,
     "metadata": {},
     "output_type": "execute_result"
    }
   ],
   "source": [
    "data.head()"
   ]
  },
  {
   "cell_type": "code",
   "execution_count": 42,
   "id": "db5510ba",
   "metadata": {},
   "outputs": [
    {
     "data": {
      "text/plain": [
       "array(['23.4 ', '21.14 ', '17.7 ', '23.0 ', '16.1 ', '20.14 ',\n",
       "       '17.3 km/kg', '23.59 ', '20.0 ', '19.01 ', '17.3 ', '19.3 ',\n",
       "       '18.9 ', '18.15 ', '24.52 ', '19.7 ', '22.54 ', '21.0 ', '25.5 ',\n",
       "       '26.59 ', '21.5 ', '20.3 ', '21.4 ', '24.7 ', '18.2 ', '16.8 ',\n",
       "       '24.3 ', '14.0 ', '18.6 ', '33.44 km/kg', '23.95 ', '17.0 ',\n",
       "       '20.63 ', '13.93 ', '16.0 ', '17.8 ', '18.5 ', '12.55 ', '12.99 ',\n",
       "       '14.8 ', '13.5 ', '26.0 ', '20.65 ', '27.3 ', '11.36 ', '17.68 ',\n",
       "       '14.28 ', '18.53 ', '14.84 ', '21.12 ', '20.36 ', '21.27 ',\n",
       "       '18.16 ', '22.0 ', '25.1 ', '20.51 ', '21.66 ', '25.2 ', '22.9 ',\n",
       "       '16.02 ', '20.54 ', '22.77 ', '15.71 ', '23.1 ', '19.02 ',\n",
       "       '19.81 ', '26.2 km/kg', '16.47 ', '15.04 ', '19.1 ', '21.79 ',\n",
       "       '18.8 ', '21.21 ', '15.37 ', '11.79 ', '19.0 ', '14.3 ', '15.8 ',\n",
       "       '15.1 ', '19.09 ', '22.32 ', '21.9 ', '14.53 ', '21.63 ', '20.85 ',\n",
       "       '20.45 ', '19.67 ', '23.01 ', '20.77 ', '17.92 ', '17.01 ',\n",
       "       '22.37 ', '19.33 ', '9.5 ', '12.83 ', '22.48 ', '16.78 ', '14.67 ',\n",
       "       '15.0 ', '13.96 ', '18.0 ', '12.07 ', '26.21 ', '10.8 ', '16.3 ',\n",
       "       '13.6 ', '14.74 ', '15.6 ', '19.56 ', '22.69 ', '19.16 ', '18.12 ',\n",
       "       '12.1 ', '17.5 ', '42.0 ', '20.4 ', '21.1 ', '19.44 ', '13.0 ',\n",
       "       '21.43 ', '22.95 ', '16.2 ', '15.3 ', '28.09 ', '17.4 ', '19.4 ',\n",
       "       '26.6 km/kg', '17.6 ', '28.4 ', '14.1 ', '25.17 ', '22.74 ',\n",
       "       '17.57 ', '16.95 ', '19.49 ', '17.21 ', '13.2 ', '14.2 ', '26.8 ',\n",
       "       '25.4 ', '11.5 ', '27.28 ', '17.97 ', '12.8 ', '16.55 ', '12.05 ',\n",
       "       '14.07 ', '21.02 ', '11.57 ', '17.9 ', '15.96 ', '17.1 ', '17.19 ',\n",
       "       '21.01 ', '24.0 ', '25.6 ', '21.38 ', '23.84 ', '23.08 ', '14.24 ',\n",
       "       '20.71 ', '15.64 ', '14.5 ', '16.34 ', '27.39 ', '11.1 ', '13.9 ',\n",
       "       '20.88 km/kg', '20.92 ', '23.8 ', '24.4 ', '15.29 ', '21.19 ',\n",
       "       '22.5 ', '19.6 ', '23.65 ', '25.32 ', '23.5 ', '16.6 ', '23.9 ',\n",
       "       '20.8 ', '27.62 ', '12.9 ', '25.44 ', '17.88 ', '22.7 ', '17.2 ',\n",
       "       '15.42 ', '19.68 ', '18.7 ', '15.4 ', '19.34 ', '22.71 ', '25.8 ',\n",
       "       '13.7 ', '12.2 ', '18.49 ', '9.0 ', '0.0 ', '13.58 ', '10.1 ',\n",
       "       '20.5 ', '25.0 ', '10.5 ', '22.07 ', '22.3 ', '15.26 ', '20.62 ',\n",
       "       '27.4 ', '23.2 ', '14.4 ', '18.4 ', '30.46 km/kg', '14.02 ',\n",
       "       '11.0 ', '20.6 ', '22.05 ', '20.2 ', '18.1 ', '22.1 ', '19.87 ',\n",
       "       '13.01 ', '18.06 ', '26.1 ', '16.52 ', '13.55 ', '24.2 ', '25.83 ',\n",
       "       '11.2 ', '17.09 ', '21.03 ', '17.45 ', '21.64 ', '21.94 km/kg',\n",
       "       '13.87 ', '19.98 ', '20.52 ', '23.57 ', '11.7 ', '17.43 ',\n",
       "       '18.88 ', '13.68 ', '11.18 ', '20.89 ', '11.8 ', '19.62 ', '21.7 ',\n",
       "       '14.9 ', '19.5 ', '10.91 ', '15.7 ', '20.73 ', '15.85 ', '20.7 ',\n",
       "       '14.23 ', '16.5 ', '17.36 ', '12.6 ', '16.36 ', '14.95 ', '16.9 ',\n",
       "       '19.2 ', '16.96 ', '22.15 ', '18.78 ', '19.61 ', '17.71 ', '18.3 ',\n",
       "       '19.12 ', '19.72 ', '12.0 ', '11.4 ', '23.03 ', '11.07 ', '15.9 ',\n",
       "       '17.67 ', '20.46 ', '13.1 ', '13.45 km/kg', '24.8 ', '15.73 ',\n",
       "       '15.11 ', '12.7 ', '21.2 ', '20.38 ', '21.56 ', '13.22 ', '14.49 ',\n",
       "       '15.05 ', '23.26 ', '15.41 ', '13.8 ', '22.27 ', '32.52 km/kg',\n",
       "       '14.66 ', '12.12 ', '16.84 ', '14.09 ', '14.7 ', '13.4 ', '15.5 ',\n",
       "       '13.49 ', '11.88 km/kg', '14.6 ', '10.75 ', '24.5 ', '11.74 ',\n",
       "       '16.07 ', '15.63 ', '26.3 km/kg', '23.7 km/kg', '25.47 ', '17.05 ',\n",
       "       '23.3 ', '11.9 ', '13.38 ', '20.86 ', '19.2 km/kg', '10.9 ',\n",
       "       '18.25 ', '15.2 ', '20.37 ', '17.8 km/kg', '21.8 ', '11.96 ',\n",
       "       '24.04 ', '19.69 ', '13.73 ', '21.04 ', '25.01 ', '10.93 ',\n",
       "       '10.9 km/kg', '24.29 ', '13.44 ', '20.07 ', '21.1 km/kg', '19.08 ',\n",
       "       '20.34 ', '11.68 ', '12.5 ', '12.3 ', '23.87 ', '16.38 ', '17.42 ',\n",
       "       '10.0 ', '18.24 ', '10.71 ', '19.59 ', '16.7 ', '19.83 ', '21.76 ',\n",
       "       '16.05 ', '20.28 ', '16.25 ', '16.73 ', '18.48 ', '13.2 km/kg',\n",
       "       '21.4 km/kg', '14.99 ', '18.76 ', '16.4 ', '19.64 ', '14.94 ',\n",
       "       '16.6 km/kg', '16.0 km/kg', '17.11 ', '22.8 km/kg', '32.26 km/kg',\n",
       "       '33.0 km/kg', '12.4 ', '18.44 ', '16.09 ', '19.0 km/kg', '12.62 ',\n",
       "       '21.13 ', '15.17 ', '21.73 ', '21.72 ', '12.85 ', '14.81 ',\n",
       "       '13.24 ', '14.4 km/kg', '21.49 ', '14.62 ', '26.83 km/kg',\n",
       "       '11.45 ', '12.08 ', '15.74 ', '11.3 ', '15.1 km/kg', '14.21 ',\n",
       "       '11.72 ', '16.51 '], dtype=object)"
      ]
     },
     "execution_count": 42,
     "metadata": {},
     "output_type": "execute_result"
    }
   ],
   "source": [
    "data['mileage'].unique()"
   ]
  },
  {
   "cell_type": "code",
   "execution_count": 43,
   "id": "5e9503bc",
   "metadata": {},
   "outputs": [],
   "source": [
    "data['mileage']=data['mileage'].str.replace('km/kg','')"
   ]
  },
  {
   "cell_type": "code",
   "execution_count": 44,
   "id": "8f22a1de",
   "metadata": {},
   "outputs": [],
   "source": [
    "data['engine']=data['engine'].astype(int)"
   ]
  },
  {
   "cell_type": "code",
   "execution_count": 45,
   "id": "e88fee47",
   "metadata": {},
   "outputs": [],
   "source": [
    "data['mileage']=data['mileage'].astype(float)"
   ]
  },
  {
   "cell_type": "code",
   "execution_count": 46,
   "id": "bd1de5d8",
   "metadata": {},
   "outputs": [
    {
     "data": {
      "text/plain": [
       "91.7        10\n",
       "83.1        45\n",
       "103          2\n",
       "53           4\n",
       "46.3       162\n",
       "103.3        8\n",
       "104.68      10\n",
       "143          3\n",
       "125          7\n",
       "117.6       14\n",
       "103.6       48\n",
       "203.2        1\n",
       "92.7         1\n",
       "280          6\n",
       "188          7\n",
       "197.2        1\n",
       "108.6       14\n",
       "110.5        1\n",
       "81.83       97\n",
       "58           3\n",
       "Name: max_power, dtype: int64"
      ]
     },
     "execution_count": 46,
     "metadata": {},
     "output_type": "execute_result"
    }
   ],
   "source": [
    "data['max_power'].value_counts().sample(20)\n"
   ]
  },
  {
   "cell_type": "code",
   "execution_count": 47,
   "id": "c18b7d7f",
   "metadata": {},
   "outputs": [
    {
     "name": "stdout",
     "output_type": "stream",
     "text": [
      "<class 'pandas.core.frame.DataFrame'>\n",
      "RangeIndex: 8128 entries, 0 to 8127\n",
      "Data columns (total 11 columns):\n",
      " #   Column         Non-Null Count  Dtype  \n",
      "---  ------         --------------  -----  \n",
      " 0   year           8128 non-null   int64  \n",
      " 1   selling_price  8128 non-null   int64  \n",
      " 2   km_driven      8128 non-null   int64  \n",
      " 3   fuel           8128 non-null   int64  \n",
      " 4   seller_type    8128 non-null   int64  \n",
      " 5   transmission   8128 non-null   int64  \n",
      " 6   owner          8128 non-null   int64  \n",
      " 7   mileage        8128 non-null   float64\n",
      " 8   engine         8128 non-null   int32  \n",
      " 9   max_power      8128 non-null   object \n",
      " 10  seats          8128 non-null   float64\n",
      "dtypes: float64(2), int32(1), int64(7), object(1)\n",
      "memory usage: 666.9+ KB\n"
     ]
    }
   ],
   "source": [
    "data.info()"
   ]
  },
  {
   "cell_type": "code",
   "execution_count": 48,
   "id": "30050d54",
   "metadata": {},
   "outputs": [],
   "source": [
    "data.drop(['max_power'],axis=1,inplace=True)"
   ]
  },
  {
   "cell_type": "markdown",
   "id": "43b25399",
   "metadata": {},
   "source": [
    "### Transformation\n",
    "##### standardisation"
   ]
  },
  {
   "cell_type": "code",
   "execution_count": 49,
   "id": "78169a0c",
   "metadata": {},
   "outputs": [],
   "source": [
    "from sklearn.preprocessing import StandardScaler\n",
    "scaler=StandardScaler()"
   ]
  },
  {
   "cell_type": "code",
   "execution_count": 50,
   "id": "ee694c08",
   "metadata": {},
   "outputs": [],
   "source": [
    "df1=scaler.fit_transform(data)"
   ]
  },
  {
   "cell_type": "code",
   "execution_count": 51,
   "id": "a0bd2cb1",
   "metadata": {},
   "outputs": [],
   "source": [
    "df2=pd.DataFrame(df1,columns=data.columns)"
   ]
  },
  {
   "cell_type": "code",
   "execution_count": 52,
   "id": "e3b5aef3",
   "metadata": {},
   "outputs": [
    {
     "data": {
      "text/html": [
       "<div>\n",
       "<style scoped>\n",
       "    .dataframe tbody tr th:only-of-type {\n",
       "        vertical-align: middle;\n",
       "    }\n",
       "\n",
       "    .dataframe tbody tr th {\n",
       "        vertical-align: top;\n",
       "    }\n",
       "\n",
       "    .dataframe thead th {\n",
       "        text-align: right;\n",
       "    }\n",
       "</style>\n",
       "<table border=\"1\" class=\"dataframe\">\n",
       "  <thead>\n",
       "    <tr style=\"text-align: right;\">\n",
       "      <th></th>\n",
       "      <th>year</th>\n",
       "      <th>selling_price</th>\n",
       "      <th>km_driven</th>\n",
       "      <th>fuel</th>\n",
       "      <th>seller_type</th>\n",
       "      <th>transmission</th>\n",
       "      <th>owner</th>\n",
       "      <th>mileage</th>\n",
       "      <th>engine</th>\n",
       "      <th>seats</th>\n",
       "    </tr>\n",
       "  </thead>\n",
       "  <tbody>\n",
       "    <tr>\n",
       "      <th>0</th>\n",
       "      <td>0.048464</td>\n",
       "      <td>-0.233529</td>\n",
       "      <td>1.338363</td>\n",
       "      <td>-0.879460</td>\n",
       "      <td>-0.423004</td>\n",
       "      <td>-0.385158</td>\n",
       "      <td>-0.640403</td>\n",
       "      <td>1.003214</td>\n",
       "      <td>-0.411305</td>\n",
       "      <td>-0.427258</td>\n",
       "    </tr>\n",
       "    <tr>\n",
       "      <th>1</th>\n",
       "      <td>0.048464</td>\n",
       "      <td>-0.332759</td>\n",
       "      <td>0.887411</td>\n",
       "      <td>-0.879460</td>\n",
       "      <td>-0.423004</td>\n",
       "      <td>-0.385158</td>\n",
       "      <td>0.745063</td>\n",
       "      <td>0.435734</td>\n",
       "      <td>0.090536</td>\n",
       "      <td>-0.427258</td>\n",
       "    </tr>\n",
       "    <tr>\n",
       "      <th>2</th>\n",
       "      <td>-1.929775</td>\n",
       "      <td>-0.595720</td>\n",
       "      <td>1.241098</td>\n",
       "      <td>0.972898</td>\n",
       "      <td>-0.423004</td>\n",
       "      <td>-0.385158</td>\n",
       "      <td>2.130528</td>\n",
       "      <td>-0.428040</td>\n",
       "      <td>0.088528</td>\n",
       "      <td>-0.427258</td>\n",
       "    </tr>\n",
       "    <tr>\n",
       "      <th>3</th>\n",
       "      <td>-0.940656</td>\n",
       "      <td>-0.512615</td>\n",
       "      <td>1.011202</td>\n",
       "      <td>-0.879460</td>\n",
       "      <td>-0.423004</td>\n",
       "      <td>-0.385158</td>\n",
       "      <td>-0.640403</td>\n",
       "      <td>0.902775</td>\n",
       "      <td>-0.114215</td>\n",
       "      <td>-0.427258</td>\n",
       "    </tr>\n",
       "    <tr>\n",
       "      <th>4</th>\n",
       "      <td>-1.682495</td>\n",
       "      <td>-0.630451</td>\n",
       "      <td>0.887411</td>\n",
       "      <td>0.972898</td>\n",
       "      <td>-0.423004</td>\n",
       "      <td>-0.385158</td>\n",
       "      <td>-0.640403</td>\n",
       "      <td>-0.829795</td>\n",
       "      <td>-0.310937</td>\n",
       "      <td>-0.427258</td>\n",
       "    </tr>\n",
       "  </tbody>\n",
       "</table>\n",
       "</div>"
      ],
      "text/plain": [
       "       year  selling_price  km_driven      fuel  seller_type  transmission  \\\n",
       "0  0.048464      -0.233529   1.338363 -0.879460    -0.423004     -0.385158   \n",
       "1  0.048464      -0.332759   0.887411 -0.879460    -0.423004     -0.385158   \n",
       "2 -1.929775      -0.595720   1.241098  0.972898    -0.423004     -0.385158   \n",
       "3 -0.940656      -0.512615   1.011202 -0.879460    -0.423004     -0.385158   \n",
       "4 -1.682495      -0.630451   0.887411  0.972898    -0.423004     -0.385158   \n",
       "\n",
       "      owner   mileage    engine     seats  \n",
       "0 -0.640403  1.003214 -0.411305 -0.427258  \n",
       "1  0.745063  0.435734  0.090536 -0.427258  \n",
       "2  2.130528 -0.428040  0.088528 -0.427258  \n",
       "3 -0.640403  0.902775 -0.114215 -0.427258  \n",
       "4 -0.640403 -0.829795 -0.310937 -0.427258  "
      ]
     },
     "execution_count": 52,
     "metadata": {},
     "output_type": "execute_result"
    }
   ],
   "source": [
    "df2.head()"
   ]
  },
  {
   "cell_type": "code",
   "execution_count": 55,
   "id": "c7402486",
   "metadata": {},
   "outputs": [],
   "source": [
    "df2['price']=df2['selling_price']"
   ]
  },
  {
   "cell_type": "code",
   "execution_count": 56,
   "id": "6a4be409",
   "metadata": {},
   "outputs": [
    {
     "data": {
      "text/html": [
       "<div>\n",
       "<style scoped>\n",
       "    .dataframe tbody tr th:only-of-type {\n",
       "        vertical-align: middle;\n",
       "    }\n",
       "\n",
       "    .dataframe tbody tr th {\n",
       "        vertical-align: top;\n",
       "    }\n",
       "\n",
       "    .dataframe thead th {\n",
       "        text-align: right;\n",
       "    }\n",
       "</style>\n",
       "<table border=\"1\" class=\"dataframe\">\n",
       "  <thead>\n",
       "    <tr style=\"text-align: right;\">\n",
       "      <th></th>\n",
       "      <th>year</th>\n",
       "      <th>selling_price</th>\n",
       "      <th>km_driven</th>\n",
       "      <th>fuel</th>\n",
       "      <th>seller_type</th>\n",
       "      <th>transmission</th>\n",
       "      <th>owner</th>\n",
       "      <th>mileage</th>\n",
       "      <th>engine</th>\n",
       "      <th>seats</th>\n",
       "      <th>price</th>\n",
       "    </tr>\n",
       "  </thead>\n",
       "  <tbody>\n",
       "    <tr>\n",
       "      <th>0</th>\n",
       "      <td>0.048464</td>\n",
       "      <td>-0.233529</td>\n",
       "      <td>1.338363</td>\n",
       "      <td>-0.879460</td>\n",
       "      <td>-0.423004</td>\n",
       "      <td>-0.385158</td>\n",
       "      <td>-0.640403</td>\n",
       "      <td>1.003214</td>\n",
       "      <td>-0.411305</td>\n",
       "      <td>-0.427258</td>\n",
       "      <td>-0.233529</td>\n",
       "    </tr>\n",
       "    <tr>\n",
       "      <th>1</th>\n",
       "      <td>0.048464</td>\n",
       "      <td>-0.332759</td>\n",
       "      <td>0.887411</td>\n",
       "      <td>-0.879460</td>\n",
       "      <td>-0.423004</td>\n",
       "      <td>-0.385158</td>\n",
       "      <td>0.745063</td>\n",
       "      <td>0.435734</td>\n",
       "      <td>0.090536</td>\n",
       "      <td>-0.427258</td>\n",
       "      <td>-0.332759</td>\n",
       "    </tr>\n",
       "    <tr>\n",
       "      <th>2</th>\n",
       "      <td>-1.929775</td>\n",
       "      <td>-0.595720</td>\n",
       "      <td>1.241098</td>\n",
       "      <td>0.972898</td>\n",
       "      <td>-0.423004</td>\n",
       "      <td>-0.385158</td>\n",
       "      <td>2.130528</td>\n",
       "      <td>-0.428040</td>\n",
       "      <td>0.088528</td>\n",
       "      <td>-0.427258</td>\n",
       "      <td>-0.595720</td>\n",
       "    </tr>\n",
       "    <tr>\n",
       "      <th>3</th>\n",
       "      <td>-0.940656</td>\n",
       "      <td>-0.512615</td>\n",
       "      <td>1.011202</td>\n",
       "      <td>-0.879460</td>\n",
       "      <td>-0.423004</td>\n",
       "      <td>-0.385158</td>\n",
       "      <td>-0.640403</td>\n",
       "      <td>0.902775</td>\n",
       "      <td>-0.114215</td>\n",
       "      <td>-0.427258</td>\n",
       "      <td>-0.512615</td>\n",
       "    </tr>\n",
       "    <tr>\n",
       "      <th>4</th>\n",
       "      <td>-1.682495</td>\n",
       "      <td>-0.630451</td>\n",
       "      <td>0.887411</td>\n",
       "      <td>0.972898</td>\n",
       "      <td>-0.423004</td>\n",
       "      <td>-0.385158</td>\n",
       "      <td>-0.640403</td>\n",
       "      <td>-0.829795</td>\n",
       "      <td>-0.310937</td>\n",
       "      <td>-0.427258</td>\n",
       "      <td>-0.630451</td>\n",
       "    </tr>\n",
       "  </tbody>\n",
       "</table>\n",
       "</div>"
      ],
      "text/plain": [
       "       year  selling_price  km_driven      fuel  seller_type  transmission  \\\n",
       "0  0.048464      -0.233529   1.338363 -0.879460    -0.423004     -0.385158   \n",
       "1  0.048464      -0.332759   0.887411 -0.879460    -0.423004     -0.385158   \n",
       "2 -1.929775      -0.595720   1.241098  0.972898    -0.423004     -0.385158   \n",
       "3 -0.940656      -0.512615   1.011202 -0.879460    -0.423004     -0.385158   \n",
       "4 -1.682495      -0.630451   0.887411  0.972898    -0.423004     -0.385158   \n",
       "\n",
       "      owner   mileage    engine     seats     price  \n",
       "0 -0.640403  1.003214 -0.411305 -0.427258 -0.233529  \n",
       "1  0.745063  0.435734  0.090536 -0.427258 -0.332759  \n",
       "2  2.130528 -0.428040  0.088528 -0.427258 -0.595720  \n",
       "3 -0.640403  0.902775 -0.114215 -0.427258 -0.512615  \n",
       "4 -0.640403 -0.829795 -0.310937 -0.427258 -0.630451  "
      ]
     },
     "execution_count": 56,
     "metadata": {},
     "output_type": "execute_result"
    }
   ],
   "source": [
    "df2.head()"
   ]
  },
  {
   "cell_type": "code",
   "execution_count": 57,
   "id": "17f0ec2b",
   "metadata": {},
   "outputs": [],
   "source": [
    "df2.drop(['selling_price'],axis=1,inplace=True)"
   ]
  },
  {
   "cell_type": "code",
   "execution_count": 58,
   "id": "130e807d",
   "metadata": {},
   "outputs": [
    {
     "data": {
      "text/html": [
       "<div>\n",
       "<style scoped>\n",
       "    .dataframe tbody tr th:only-of-type {\n",
       "        vertical-align: middle;\n",
       "    }\n",
       "\n",
       "    .dataframe tbody tr th {\n",
       "        vertical-align: top;\n",
       "    }\n",
       "\n",
       "    .dataframe thead th {\n",
       "        text-align: right;\n",
       "    }\n",
       "</style>\n",
       "<table border=\"1\" class=\"dataframe\">\n",
       "  <thead>\n",
       "    <tr style=\"text-align: right;\">\n",
       "      <th></th>\n",
       "      <th>year</th>\n",
       "      <th>km_driven</th>\n",
       "      <th>fuel</th>\n",
       "      <th>seller_type</th>\n",
       "      <th>transmission</th>\n",
       "      <th>owner</th>\n",
       "      <th>mileage</th>\n",
       "      <th>engine</th>\n",
       "      <th>seats</th>\n",
       "      <th>price</th>\n",
       "    </tr>\n",
       "  </thead>\n",
       "  <tbody>\n",
       "    <tr>\n",
       "      <th>0</th>\n",
       "      <td>0.048464</td>\n",
       "      <td>1.338363</td>\n",
       "      <td>-0.879460</td>\n",
       "      <td>-0.423004</td>\n",
       "      <td>-0.385158</td>\n",
       "      <td>-0.640403</td>\n",
       "      <td>1.003214</td>\n",
       "      <td>-0.411305</td>\n",
       "      <td>-0.427258</td>\n",
       "      <td>-0.233529</td>\n",
       "    </tr>\n",
       "    <tr>\n",
       "      <th>1</th>\n",
       "      <td>0.048464</td>\n",
       "      <td>0.887411</td>\n",
       "      <td>-0.879460</td>\n",
       "      <td>-0.423004</td>\n",
       "      <td>-0.385158</td>\n",
       "      <td>0.745063</td>\n",
       "      <td>0.435734</td>\n",
       "      <td>0.090536</td>\n",
       "      <td>-0.427258</td>\n",
       "      <td>-0.332759</td>\n",
       "    </tr>\n",
       "    <tr>\n",
       "      <th>2</th>\n",
       "      <td>-1.929775</td>\n",
       "      <td>1.241098</td>\n",
       "      <td>0.972898</td>\n",
       "      <td>-0.423004</td>\n",
       "      <td>-0.385158</td>\n",
       "      <td>2.130528</td>\n",
       "      <td>-0.428040</td>\n",
       "      <td>0.088528</td>\n",
       "      <td>-0.427258</td>\n",
       "      <td>-0.595720</td>\n",
       "    </tr>\n",
       "    <tr>\n",
       "      <th>3</th>\n",
       "      <td>-0.940656</td>\n",
       "      <td>1.011202</td>\n",
       "      <td>-0.879460</td>\n",
       "      <td>-0.423004</td>\n",
       "      <td>-0.385158</td>\n",
       "      <td>-0.640403</td>\n",
       "      <td>0.902775</td>\n",
       "      <td>-0.114215</td>\n",
       "      <td>-0.427258</td>\n",
       "      <td>-0.512615</td>\n",
       "    </tr>\n",
       "    <tr>\n",
       "      <th>4</th>\n",
       "      <td>-1.682495</td>\n",
       "      <td>0.887411</td>\n",
       "      <td>0.972898</td>\n",
       "      <td>-0.423004</td>\n",
       "      <td>-0.385158</td>\n",
       "      <td>-0.640403</td>\n",
       "      <td>-0.829795</td>\n",
       "      <td>-0.310937</td>\n",
       "      <td>-0.427258</td>\n",
       "      <td>-0.630451</td>\n",
       "    </tr>\n",
       "  </tbody>\n",
       "</table>\n",
       "</div>"
      ],
      "text/plain": [
       "       year  km_driven      fuel  seller_type  transmission     owner  \\\n",
       "0  0.048464   1.338363 -0.879460    -0.423004     -0.385158 -0.640403   \n",
       "1  0.048464   0.887411 -0.879460    -0.423004     -0.385158  0.745063   \n",
       "2 -1.929775   1.241098  0.972898    -0.423004     -0.385158  2.130528   \n",
       "3 -0.940656   1.011202 -0.879460    -0.423004     -0.385158 -0.640403   \n",
       "4 -1.682495   0.887411  0.972898    -0.423004     -0.385158 -0.640403   \n",
       "\n",
       "    mileage    engine     seats     price  \n",
       "0  1.003214 -0.411305 -0.427258 -0.233529  \n",
       "1  0.435734  0.090536 -0.427258 -0.332759  \n",
       "2 -0.428040  0.088528 -0.427258 -0.595720  \n",
       "3  0.902775 -0.114215 -0.427258 -0.512615  \n",
       "4 -0.829795 -0.310937 -0.427258 -0.630451  "
      ]
     },
     "execution_count": 58,
     "metadata": {},
     "output_type": "execute_result"
    }
   ],
   "source": [
    "df2.head()"
   ]
  },
  {
   "cell_type": "code",
   "execution_count": 62,
   "id": "27d0a5e5",
   "metadata": {},
   "outputs": [],
   "source": [
    "x=df2.iloc[:,:-1]\n",
    "y=df2.iloc[:,-1]"
   ]
  },
  {
   "cell_type": "code",
   "execution_count": 64,
   "id": "f85faf90",
   "metadata": {},
   "outputs": [],
   "source": [
    "from sklearn.model_selection import train_test_split"
   ]
  },
  {
   "cell_type": "code",
   "execution_count": 71,
   "id": "70f689a8",
   "metadata": {},
   "outputs": [],
   "source": [
    "x_train,y_train,x_test,y_test=train_test_split(x,y,random_state=42)"
   ]
  },
  {
   "cell_type": "code",
   "execution_count": 72,
   "id": "117e042b",
   "metadata": {},
   "outputs": [
    {
     "name": "stdout",
     "output_type": "stream",
     "text": [
      "(6096, 9) (2032, 9) (6096,) (2032,)\n"
     ]
    }
   ],
   "source": [
    "print(x_train.shape,y_train.shape,x_test.shape,y_test.shape)"
   ]
  },
  {
   "cell_type": "code",
   "execution_count": 73,
   "id": "71478e2c",
   "metadata": {},
   "outputs": [],
   "source": [
    "from sklearn.linear_model import LinearRegression\n",
    "lr=LinearRegression()"
   ]
  },
  {
   "cell_type": "code",
   "execution_count": 74,
   "id": "026ec440",
   "metadata": {},
   "outputs": [
    {
     "data": {
      "text/plain": [
       "LinearRegression()"
      ]
     },
     "execution_count": 74,
     "metadata": {},
     "output_type": "execute_result"
    }
   ],
   "source": [
    "lr.fit(x_train,x_test)"
   ]
  },
  {
   "cell_type": "code",
   "execution_count": 76,
   "id": "5cb2966d",
   "metadata": {},
   "outputs": [],
   "source": [
    "y_pred=lr.predict(y_train)"
   ]
  },
  {
   "cell_type": "code",
   "execution_count": 78,
   "id": "1697ffeb",
   "metadata": {},
   "outputs": [
    {
     "data": {
      "text/plain": [
       "0.41392240143878306"
      ]
     },
     "execution_count": 78,
     "metadata": {},
     "output_type": "execute_result"
    }
   ],
   "source": [
    "from sklearn.metrics import mean_squared_error\n",
    "mean_squared_error(y_pred,y_test)"
   ]
  },
  {
   "cell_type": "code",
   "execution_count": 79,
   "id": "5b87505c",
   "metadata": {},
   "outputs": [
    {
     "name": "stdout",
     "output_type": "stream",
     "text": [
      "Mean Absolute Error: 0.3603295388256001\n",
      "Mean Squared Error: 0.41392240143878306\n",
      "Root Mean Squared Error: 0.6433680140003721\n",
      "r2_score: 0.56838586853261\n"
     ]
    }
   ],
   "source": [
    "from sklearn import metrics\n",
    "\n",
    "print('Mean Absolute Error:', metrics.mean_absolute_error(y_test, y_pred))  \n",
    "print('Mean Squared Error:', metrics.mean_squared_error(y_test, y_pred))  \n",
    "print('Root Mean Squared Error:', np.sqrt(metrics.mean_squared_error(y_test, y_pred)))\n",
    "\n",
    "print('r2_score:', metrics.r2_score(y_test,y_pred))"
   ]
  },
  {
   "cell_type": "code",
   "execution_count": null,
   "id": "5fd202aa",
   "metadata": {},
   "outputs": [],
   "source": []
  }
 ],
 "metadata": {
  "kernelspec": {
   "display_name": "Python 3 (ipykernel)",
   "language": "python",
   "name": "python3"
  },
  "language_info": {
   "codemirror_mode": {
    "name": "ipython",
    "version": 3
   },
   "file_extension": ".py",
   "mimetype": "text/x-python",
   "name": "python",
   "nbconvert_exporter": "python",
   "pygments_lexer": "ipython3",
   "version": "3.9.12"
  }
 },
 "nbformat": 4,
 "nbformat_minor": 5
}
